{
 "cells": [
  {
   "cell_type": "code",
   "execution_count": 1,
   "metadata": {},
   "outputs": [],
   "source": [
    "import modin.pandas as pd\n",
    "from xgboost import XGBClassifier\n",
    "\n",
    "from sklearnex import patch_sklearn\n",
    "patch_sklearn()\n",
    "\n",
    "from sklearn.model_selection import train_test_split"
   ]
  },
  {
   "cell_type": "code",
   "execution_count": 2,
   "metadata": {},
   "outputs": [
    {
     "name": "stdout",
     "output_type": "stream",
     "text": [
      "<class 'pandas.core.frame.DataFrame'>\n",
      "Int64Index: 5956842 entries, 0 to 5956841\n",
      "Data columns (total 23 columns):\n",
      " #   Column                  Dtype  \n",
      "---  ------                  -----  \n",
      " 0   pH                      float64\n",
      " 1   Iron                    float64\n",
      " 2   Nitrate                 float64\n",
      " 3   Chloride                float64\n",
      " 4   Lead                    float64\n",
      " 5   Zinc                    float64\n",
      " 6   Color                   object \n",
      " 7   Turbidity               float64\n",
      " 8   Fluoride                float64\n",
      " 9   Copper                  float64\n",
      " 10  Odor                    float64\n",
      " 11  Sulfate                 float64\n",
      " 12  Conductivity            float64\n",
      " 13  Chlorine                float64\n",
      " 14  Manganese               float64\n",
      " 15  Total Dissolved Solids  float64\n",
      " 16  Source                  object \n",
      " 17  Water Temperature       float64\n",
      " 18  Air Temperature         float64\n",
      " 19  Month                   object \n",
      " 20  Day                     float64\n",
      " 21  Time of Day             float64\n",
      " 22  Target                  int64  \n",
      "dtypes: float64(19), int64(1), object(3)\n",
      "memory usage: 1.1+ GB\n"
     ]
    }
   ],
   "source": [
    "df = pd.read_csv(\"../dataset/freshwater/dataset.csv\", index_col=\"Index\")\n",
    "df.info()"
   ]
  },
  {
   "cell_type": "code",
   "execution_count": 3,
   "metadata": {},
   "outputs": [],
   "source": [
    "df_nona = df.drop(columns=[\"Month\", \"Day\", \"Time of Day\"])\n",
    "df_nona[\"Color\"] = df_nona[\"Color\"].astype(\"category\")\n",
    "df_nona[\"Source\"] = df_nona[\"Source\"].astype(\"category\")"
   ]
  },
  {
   "cell_type": "code",
   "execution_count": 4,
   "metadata": {},
   "outputs": [],
   "source": [
    "df_cat = pd.get_dummies(data=df_nona, columns=[\"Color\", \"Source\"])"
   ]
  },
  {
   "cell_type": "code",
   "execution_count": 5,
   "metadata": {},
   "outputs": [],
   "source": [
    "original_columns = df_cat.columns.tolist()\n",
    "original_columns.remove(\"Target\")\n",
    "df_cat = df_cat.reindex(columns=original_columns + [\"Target\"])"
   ]
  },
  {
   "cell_type": "code",
   "execution_count": 6,
   "metadata": {},
   "outputs": [
    {
     "name": "stdout",
     "output_type": "stream",
     "text": [
      "<class 'pandas.core.frame.DataFrame'>\n",
      "Int64Index: 5956842 entries, 0 to 5956841\n",
      "Data columns (total 31 columns):\n",
      " #   Column                  Dtype  \n",
      "---  ------                  -----  \n",
      " 0   pH                      float64\n",
      " 1   Iron                    float64\n",
      " 2   Nitrate                 float64\n",
      " 3   Chloride                float64\n",
      " 4   Lead                    float64\n",
      " 5   Zinc                    float64\n",
      " 6   Turbidity               float64\n",
      " 7   Fluoride                float64\n",
      " 8   Copper                  float64\n",
      " 9   Odor                    float64\n",
      " 10  Sulfate                 float64\n",
      " 11  Conductivity            float64\n",
      " 12  Chlorine                float64\n",
      " 13  Manganese               float64\n",
      " 14  Total Dissolved Solids  float64\n",
      " 15  Water Temperature       float64\n",
      " 16  Air Temperature         float64\n",
      " 17  Color_Colorless         uint8  \n",
      " 18  Color_Faint Yellow      uint8  \n",
      " 19  Color_Light Yellow      uint8  \n",
      " 20  Color_Near Colorless    uint8  \n",
      " 21  Color_Yellow            uint8  \n",
      " 22  Source_Aquifer          uint8  \n",
      " 23  Source_Ground           uint8  \n",
      " 24  Source_Lake             uint8  \n",
      " 25  Source_Reservoir        uint8  \n",
      " 26  Source_River            uint8  \n",
      " 27  Source_Spring           uint8  \n",
      " 28  Source_Stream           uint8  \n",
      " 29  Source_Well             uint8  \n",
      " 30  Target                  int64  \n",
      "dtypes: float64(17), int64(1), uint8(13)\n",
      "memory usage: 937.3 MB\n"
     ]
    }
   ],
   "source": [
    "df_cat.info()"
   ]
  },
  {
   "cell_type": "code",
   "execution_count": null,
   "metadata": {},
   "outputs": [],
   "source": [
    "X_train, X_test, y_train, y_test = train_test_split(df_cat.iloc[:, :-1], df_cat.iloc[:, 17], test_size=.2)"
   ]
  },
  {
   "cell_type": "code",
   "execution_count": null,
   "metadata": {},
   "outputs": [],
   "source": [
    "bst = XGBClassifier(n_estimators=2, max_depth=2, learning_rate=1, objective='binary:logistic', tree_method=\"approx\")"
   ]
  },
  {
   "cell_type": "code",
   "execution_count": null,
   "metadata": {},
   "outputs": [],
   "source": [
    "bst.fit(X_train, y_train)"
   ]
  },
  {
   "cell_type": "code",
   "execution_count": null,
   "metadata": {},
   "outputs": [],
   "source": []
  }
 ],
 "metadata": {
  "kernelspec": {
   "display_name": "sempls2",
   "language": "python",
   "name": "python3"
  },
  "language_info": {
   "codemirror_mode": {
    "name": "ipython",
    "version": 3
   },
   "file_extension": ".py",
   "mimetype": "text/x-python",
   "name": "python",
   "nbconvert_exporter": "python",
   "pygments_lexer": "ipython3",
   "version": "3.10.8"
  },
  "orig_nbformat": 4,
  "vscode": {
   "interpreter": {
    "hash": "c0a8de978a4fff7f2cb24b66f6352fa46871f6fa169fdca5922b3d834a7e9195"
   }
  }
 },
 "nbformat": 4,
 "nbformat_minor": 2
}
