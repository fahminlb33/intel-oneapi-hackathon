{
 "cells": [
  {
   "cell_type": "code",
   "execution_count": null,
   "metadata": {},
   "outputs": [],
   "source": [
    "import numpy as np\n",
    "import modin.pandas as pd"
   ]
  },
  {
   "cell_type": "code",
   "execution_count": null,
   "metadata": {},
   "outputs": [],
   "source": [
    "load_columns = [\n",
    "    \"Index\",\n",
    "    \"ph\",\n",
    "    \"iron\",\n",
    "    \"nitrate\",\n",
    "    \"chloride\",\n",
    "    \"lead\",\n",
    "    \"zinc\",\n",
    "    \"color\",\n",
    "    \"turbidity\",\n",
    "    \"fluoride\",\n",
    "    \"copper\",\n",
    "    \"odor\",\n",
    "    \"sulfate\",\n",
    "    \"conductivity\",\n",
    "    \"chlorine\",\n",
    "    \"manganese\",\n",
    "    \"total_dissolved_solids\",\n",
    "    \"source\",\n",
    "    \"water_temperature\",\n",
    "    \"air_temperature\",\n",
    "    \"month\",\n",
    "    \"day\",\n",
    "    \"time_of_day\",\n",
    "    \"target\",\n",
    "]\n",
    "\n",
    "df = pd.read_csv(\"../../dataset/freshwater/dataset.csv\", index_col=\"Index\", names=load_columns, skiprows=1)\n",
    "df.info()"
   ]
  },
  {
   "cell_type": "code",
   "execution_count": null,
   "metadata": {},
   "outputs": [],
   "source": [
    "df.iloc[0, :]"
   ]
  },
  {
   "cell_type": "code",
   "execution_count": null,
   "metadata": {},
   "outputs": [],
   "source": [
    "df[\"date\"] = df.apply(lambda x: f\"2023-{x.month}-{x.day:02,.0f} {x.time_of_day:02,.0f}:00:00\" if not pd.isna(x.month) and not pd.isna(x.day) and not pd.isna(x.time_of_day) else np.nan, axis=1)\n",
    "df[\"date\"] = pd.to_datetime(df[\"date\"])\n",
    "\n",
    "df.to_parquet(\"../../dataset/freshwater/dataset-p2.parquet\")"
   ]
  },
  {
   "cell_type": "code",
   "execution_count": null,
   "metadata": {},
   "outputs": [],
   "source": [
    "df_missing_values = df.isna().sum() / df.shape[0] * 100\n",
    "df_missing_values.plot(kind=\"bar\")"
   ]
  },
  {
   "cell_type": "code",
   "execution_count": null,
   "metadata": {},
   "outputs": [],
   "source": [
    "df_ts = df.dropna(subset=[\"date\"])\n",
    "df_ts = df_ts.set_index(\"date\")\n",
    "df_ts = df_ts.fillna(0)\n",
    "df_ts = df_ts.resample(\"W\").mean()\n",
    "df_ts.to_json(\"../app_web/assets/data/water-chemicals.json\", orient=\"index\")\n",
    "\n",
    "df_ts.plot(figsize=(20, 10))"
   ]
  },
  {
   "cell_type": "code",
   "execution_count": null,
   "metadata": {},
   "outputs": [],
   "source": [
    "df_count_color = df[\"color\"].value_counts().sort_values()\n",
    "df_count_color.to_json(\"../app_web/assets/data/water-color.json\", orient=\"split\")\n",
    "df_count_color"
   ]
  },
  {
   "cell_type": "code",
   "execution_count": null,
   "metadata": {},
   "outputs": [],
   "source": [
    "df_count_source = df[\"source\"].value_counts().sort_values()\n",
    "df_count_source.to_json(\"../app_web/assets/data/water-source.json\", orient=\"split\")\n",
    "df_count_source"
   ]
  },
  {
   "cell_type": "code",
   "execution_count": null,
   "metadata": {},
   "outputs": [],
   "source": [
    "df_count_target = df[\"target\"].value_counts().sort_index()\n",
    "df_count_target = df_count_target.rename(index={0:\"Good\", 1:\"Bad\"})\n",
    "df_count_target.to_json(\"../app_web/assets/data/water-quality.json\", orient=\"split\")\n",
    "df_count_target"
   ]
  },
  {
   "cell_type": "code",
   "execution_count": null,
   "metadata": {},
   "outputs": [],
   "source": []
  }
 ],
 "metadata": {
  "kernelspec": {
   "display_name": "oneapi",
   "language": "python",
   "name": "python3"
  },
  "language_info": {
   "codemirror_mode": {
    "name": "ipython",
    "version": 3
   },
   "file_extension": ".py",
   "mimetype": "text/x-python",
   "name": "python",
   "nbconvert_exporter": "python",
   "pygments_lexer": "ipython3",
   "version": "3.10.9"
  },
  "orig_nbformat": 4,
  "vscode": {
   "interpreter": {
    "hash": "34df51ef97e53e397188a661daae31e81638d6a1b761a8d41b725b3bcce02e41"
   }
  }
 },
 "nbformat": 4,
 "nbformat_minor": 2
}
